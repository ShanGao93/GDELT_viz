{
 "cells": [
  {
   "cell_type": "code",
   "execution_count": 1,
   "metadata": {},
   "outputs": [
    {
     "data": {
      "text/html": [
       "Current session configs: <tt>{'conf': {'spark.pyspark.python': 'python3', 'spark.pyspark.virtualenv.enabled': 'true', 'spark.pyspark.virtualenv.type': 'native', 'spark.pyspark.virtualenv.bin.path': '/usr/bin/virtualenv'}, 'kind': 'pyspark', 'jars': ['s3://cse6242-project-data/spark-bootstrap/geo_wrapper_2.11-0.3.0.jar', 's3://cse6242-project-data/spark-bootstrap/geospark-1.3.0.jar', 's3://cse6242-project-data/spark-bootstrap/geospark-sql_2.3-1.3.0.jar']}</tt><br>"
      ],
      "text/plain": [
       "<IPython.core.display.HTML object>"
      ]
     },
     "metadata": {},
     "output_type": "display_data"
    },
    {
     "data": {
      "text/html": [
       "<table>\n",
       "<tr><th>ID</th><th>YARN Application ID</th><th>Kind</th><th>State</th><th>Spark UI</th><th>Driver log</th><th>Current session?</th></tr><tr><td>3</td><td>application_1586639853536_0004</td><td>pyspark</td><td>idle</td><td><a target=\"_blank\" href=\"http://ip-172-31-95-212.ec2.internal:20888/proxy/application_1586639853536_0004/\">Link</a></td><td><a target=\"_blank\" href=\"http://ip-172-31-84-181.ec2.internal:8042/node/containerlogs/container_1586639853536_0004_01_000001/livy\">Link</a></td><td></td></tr></table>"
      ],
      "text/plain": [
       "<IPython.core.display.HTML object>"
      ]
     },
     "metadata": {},
     "output_type": "display_data"
    }
   ],
   "source": [
    "%%configure -f\n",
    "{\n",
    "\"conf\": {\"spark.pyspark.python\": \"python3\", \n",
    "         \"spark.pyspark.virtualenv.enabled\": \"true\", \n",
    "         \"spark.pyspark.virtualenv.type\": \"native\", \n",
    "         \"spark.pyspark.virtualenv.bin.path\": \"/usr/bin/virtualenv\"\n",
    "        }, \n",
    "\"kind\": \"pyspark\",\n",
    "\"jars\": [\n",
    "        \"s3://cse6242-project-data/spark-bootstrap/geo_wrapper_2.11-0.3.0.jar\",\n",
    "        \"s3://cse6242-project-data/spark-bootstrap/geospark-1.3.0.jar\",\n",
    "        \"s3://cse6242-project-data/spark-bootstrap/geospark-sql_2.3-1.3.0.jar\"\n",
    "    ]\n",
    "}"
   ]
  },
  {
   "cell_type": "code",
   "execution_count": 2,
   "metadata": {},
   "outputs": [
    {
     "data": {
      "application/vnd.jupyter.widget-view+json": {
       "model_id": "d52db356a8e64d3c80efd94970e757b1",
       "version_major": 2,
       "version_minor": 0
      },
      "text/plain": [
       "VBox()"
      ]
     },
     "metadata": {},
     "output_type": "display_data"
    },
    {
     "name": "stdout",
     "output_type": "stream",
     "text": [
      "Starting Spark application\n"
     ]
    },
    {
     "data": {
      "text/html": [
       "<table>\n",
       "<tr><th>ID</th><th>YARN Application ID</th><th>Kind</th><th>State</th><th>Spark UI</th><th>Driver log</th><th>Current session?</th></tr><tr><td>4</td><td>application_1586639853536_0005</td><td>pyspark</td><td>idle</td><td><a target=\"_blank\" href=\"http://ip-172-31-95-212.ec2.internal:20888/proxy/application_1586639853536_0005/\">Link</a></td><td><a target=\"_blank\" href=\"http://ip-172-31-82-239.ec2.internal:8042/node/containerlogs/container_1586639853536_0005_01_000001/livy\">Link</a></td><td>✔</td></tr></table>"
      ],
      "text/plain": [
       "<IPython.core.display.HTML object>"
      ]
     },
     "metadata": {},
     "output_type": "display_data"
    },
    {
     "data": {
      "application/vnd.jupyter.widget-view+json": {
       "model_id": "",
       "version_major": 2,
       "version_minor": 0
      },
      "text/plain": [
       "FloatProgress(value=0.0, bar_style='info', description='Progress:', layout=Layout(height='25px', width='50%'),…"
      ]
     },
     "metadata": {},
     "output_type": "display_data"
    },
    {
     "name": "stdout",
     "output_type": "stream",
     "text": [
      "SparkSession available as 'spark'.\n"
     ]
    },
    {
     "data": {
      "application/vnd.jupyter.widget-view+json": {
       "model_id": "",
       "version_major": 2,
       "version_minor": 0
      },
      "text/plain": [
       "FloatProgress(value=0.0, bar_style='info', description='Progress:', layout=Layout(height='25px', width='50%'),…"
      ]
     },
     "metadata": {},
     "output_type": "display_data"
    },
    {
     "name": "stdout",
     "output_type": "stream",
     "text": [
      "Collecting geospark\n",
      "  Using cached geospark-1.3.1-py3-none-any.whl (34.4 MB)\n",
      "Processing /mnt/var/lib/livy/.cache/pip/wheels/84/30/e3/c51c5cd0229631e662d29d7b578a3e5949a4c8db033ffb70aa/pyspark-2.4.5-py2.py3-none-any.whl\n",
      "Collecting shapely\n",
      "  Using cached Shapely-1.7.0-cp36-cp36m-manylinux1_x86_64.whl (1.8 MB)\n",
      "Collecting findspark\n",
      "  Using cached findspark-1.3.0-py2.py3-none-any.whl (3.0 kB)\n",
      "Collecting attrs\n",
      "  Using cached attrs-19.3.0-py2.py3-none-any.whl (39 kB)\n",
      "Collecting py4j==0.10.7\n",
      "  Using cached py4j-0.10.7-py2.py3-none-any.whl (197 kB)\n",
      "Installing collected packages: py4j, pyspark, shapely, findspark, attrs, geospark\n",
      "Successfully installed attrs-19.3.0 findspark-1.3.0 geospark-1.3.1 py4j-0.10.7 pyspark-2.4.5 shapely-1.7.0\n",
      "\n",
      "Package                    Version\n",
      "-------------------------- -------\n",
      "attrs                      19.3.0 \n",
      "beautifulsoup4             4.8.1  \n",
      "boto                       2.49.0 \n",
      "findspark                  1.3.0  \n",
      "geospark                   1.3.1  \n",
      "jmespath                   0.9.4  \n",
      "lxml                       4.4.2  \n",
      "mysqlclient                1.4.6  \n",
      "nltk                       3.4.5  \n",
      "nose                       1.3.4  \n",
      "numpy                      1.14.5 \n",
      "pip                        20.0.2 \n",
      "py-dateutil                2.2    \n",
      "py4j                       0.10.7 \n",
      "pyspark                    2.4.5  \n",
      "python36-sagemaker-pyspark 1.2.6  \n",
      "pytz                       2019.3 \n",
      "PyYAML                     3.11   \n",
      "setuptools                 46.1.3 \n",
      "Shapely                    1.7.0  \n",
      "six                        1.13.0 \n",
      "soupsieve                  1.9.5  \n",
      "wheel                      0.34.2 \n",
      "windmill                   1.6    \n",
      "\n",
      "Installed\n",
      "ERROR: python36-sagemaker-pyspark 1.2.6 has requirement pyspark==2.3.2, but you'll have pyspark 2.4.5 which is incompatible."
     ]
    }
   ],
   "source": [
    "sc.install_pypi_package(\"geospark\")\n",
    "sc.list_packages()\n",
    "print(\"Installed\")"
   ]
  },
  {
   "cell_type": "code",
   "execution_count": null,
   "metadata": {},
   "outputs": [
    {
     "data": {
      "application/vnd.jupyter.widget-view+json": {
       "model_id": "e751ed52e78d475f848592427250187d",
       "version_major": 2,
       "version_minor": 0
      },
      "text/plain": [
       "VBox()"
      ]
     },
     "metadata": {},
     "output_type": "display_data"
    },
    {
     "data": {
      "application/vnd.jupyter.widget-view+json": {
       "model_id": "67f8ad8ea289475aba2a25702f7ca004",
       "version_major": 2,
       "version_minor": 0
      },
      "text/plain": [
       "FloatProgress(value=0.0, bar_style='info', description='Progress:', layout=Layout(height='25px', width='50%'),…"
      ]
     },
     "metadata": {},
     "output_type": "display_data"
    }
   ],
   "source": [
    "from pyspark import SparkContext\n",
    "from pyspark.sql import SQLContext, Column as col, Row as row, SparkSession\n",
    "from pyspark.sql.types import *\n",
    "\n",
    "from geospark.register import upload_jars\n",
    "from geospark.register import GeoSparkRegistrator\n",
    "\n",
    "import shutil\n",
    "\n",
    "# events_files = \"/Users/istomins/tmp/data5/gzip/before2018/events/2020040101*\"\n",
    "events_files = \"s3://cse6242-project-data/before2018/events/202002*\"\n",
    "# mentions_files = \"/Users/istomins/tmp/data5/gzip/before2018/mentions/2020040101*\"\n",
    "mentions_files = \"s3://cse6242-project-data/before2018/mentions/2020*\"\n",
    "# shape_file_location = \"/Users/istomins/tmp/congressional-districts.csv\"\n",
    "shape_file_location = \"s3://cse6242-project-data/congressional-districts.csv\"\n",
    "\n",
    "# party_file = \"/Users/istomins/tmp/geoid-to-party.csv\"\n",
    "party_file = \"s3://cse6242-project-data/geoid-to-party.csv\"\n",
    "\n",
    "# target_file = \"/Users/istomins/tmp/data5/new_geo_df3.csv.gz\"\n",
    "target_file = \"s3://cse6242-project-data/202002.csv\"\n",
    "\n",
    "upload_jars()\n",
    "\n",
    "GeoSparkRegistrator.registerAll(spark)\n",
    "\n",
    "sc = spark.sparkContext\n",
    "# sqlContext = SQLContext(sc)\n",
    "sqlContext = spark\n",
    "\n",
    "export_schema = StructType([\n",
    "    StructField(\"globaleventid\", LongType(), True),\n",
    "    StructField(\"day\", IntegerType(), True),\n",
    "    StructField(\"monthyear\", IntegerType(), True),\n",
    "    StructField(\"year\", IntegerType(), True),\n",
    "    StructField(\"fractiondate\", DoubleType(), True),\n",
    "    StructField(\"actor1code\", StringType(), True),\n",
    "    StructField(\"actor1name\", StringType(), True),\n",
    "    StructField(\"actor1countrycode\", StringType(), True),\n",
    "    StructField(\"actor1knowngroupcode\", StringType(), True),\n",
    "    StructField(\"actor1ethniccode\", StringType(), True),\n",
    "    StructField(\"actor1religion1code\", StringType(), True),\n",
    "    StructField(\"actor1religion2code\", StringType(), True),\n",
    "    StructField(\"actor1type1code\", StringType(), True),\n",
    "    StructField(\"actor1type2code\", StringType(), True),\n",
    "    StructField(\"actor1type3code\", StringType(), True),\n",
    "    StructField(\"actor2code\", StringType(), True),\n",
    "    StructField(\"actor2name\", StringType(), True),\n",
    "    StructField(\"actor2countrycode\", StringType(), True),\n",
    "    StructField(\"actor2knowngroupcode\", StringType(), True),\n",
    "    StructField(\"actor2ethniccode\", StringType(), True),\n",
    "    StructField(\"actor2religion1code\", StringType(), True),\n",
    "    StructField(\"actor2religion2code\", StringType(), True),\n",
    "    StructField(\"actor2type1code\", StringType(), True),\n",
    "    StructField(\"actor2type2code\", StringType(), True),\n",
    "    StructField(\"actor2type3code\", StringType(), True),\n",
    "    StructField(\"isrootevent\", IntegerType(), True),\n",
    "    StructField(\"eventcode\", StringType(), True),\n",
    "    StructField(\"eventbasecode\", StringType(), True),\n",
    "    StructField(\"eventrootcode\", StringType(), True),\n",
    "    StructField(\"quadclass\", StringType(), True),\n",
    "    StructField(\"goldsteinscale\", DoubleType(), True),\n",
    "    StructField(\"nummentions\", IntegerType(), True),\n",
    "    StructField(\"numsources\", IntegerType(), True),\n",
    "    StructField(\"numarticles\", IntegerType(), True),\n",
    "    StructField(\"avgtone\", DoubleType(), True),\n",
    "    StructField(\"actor1geo_type\", IntegerType(), True),\n",
    "    StructField(\"actor1geo_fullname\", StringType(), True),\n",
    "    StructField(\"actor1geo_countrycode\", StringType(), True),\n",
    "    StructField(\"actor1geo_adm1code\", StringType(), True),\n",
    "    StructField(\"actor1geo_adm2code\", StringType(), True),\n",
    "    StructField(\"actor1geo_lat\", StringType(), True),\n",
    "    StructField(\"actor1geo_long\", StringType(), True),\n",
    "    StructField(\"actor1geo_featureid\", StringType(), True),\n",
    "    StructField(\"actor2geo_type\", IntegerType(), True),\n",
    "    StructField(\"actor2geo_fullname\", StringType(), True),\n",
    "    StructField(\"actor2geo_countrycode\", StringType(), True),\n",
    "    StructField(\"actor2geo_adm1code\", StringType(), True),\n",
    "    StructField(\"actor2geo_adm2code\", StringType(), True),\n",
    "    StructField(\"actor2geo_lat\", StringType(), True),\n",
    "    StructField(\"actor2geo_long\", StringType(), True),\n",
    "    StructField(\"actor2geo_featureid\", StringType(), True),\n",
    "    StructField(\"actiongeo_type\", IntegerType(), True),\n",
    "    StructField(\"actiongeo_fullname\", StringType(), True),\n",
    "    StructField(\"actiongeo_countrycode\", StringType(), True),\n",
    "    StructField(\"actiongeo_adm1code\", StringType(), True),\n",
    "    StructField(\"actiongeo_adm2code\", StringType(), True),\n",
    "    StructField(\"actiongeo_lat\", StringType(), True),\n",
    "    StructField(\"actiongeo_long\", StringType(), True),\n",
    "    StructField(\"actiongeo_featureid\", StringType(), True),\n",
    "    StructField(\"dateadded\", LongType(), True),\n",
    "    StructField(\"sourceurl\", StringType(), True),\n",
    "])\n",
    "\n",
    "mentions_schema = StructType([\n",
    "    StructField(\"globaleventid\", LongType(), True),\n",
    "    StructField(\"eventtimedate\", LongType(), True),\n",
    "    StructField(\"mentiontimedate\", LongType(), True),\n",
    "    StructField(\"mentiontype\", LongType(), True),\n",
    "    StructField(\"mentionsourcename\", StringType(), True),\n",
    "    StructField(\"mentionidentifier\", StringType(), True),\n",
    "    StructField(\"sentenceid\", LongType(), True),\n",
    "    StructField(\"actor1charoffset\", LongType(), True),\n",
    "    StructField(\"actor2charoffset\", LongType(), True),\n",
    "    StructField(\"actioncharoffset\", LongType(), True),\n",
    "    StructField(\"inrawtext\", StringType(), True),\n",
    "    StructField(\"confidence\", LongType(), True),\n",
    "    StructField(\"mentiondoclen\", LongType(), True),\n",
    "    StructField(\"mentiondoctone\", DoubleType(), True),\n",
    "    StructField(\"mentiondoctranslationinfo\", DoubleType(), True),\n",
    "    StructField(\"extras\", DoubleType(), True),\n",
    "])\n",
    "\n",
    "districts_schema = StructType([\n",
    "    StructField(\"geometry\", StringType(), True),\n",
    "    StructField(\"STATEFP\", StringType(), True),\n",
    "    StructField(\"CD116FP\", StringType(), True),\n",
    "    StructField(\"AFFGEOID\", StringType(), True),\n",
    "    StructField(\"GEOID\", StringType(), True),\n",
    "    StructField(\"LSAD\", StringType(), True),\n",
    "    StructField(\"CDSESSN\", StringType(), True),\n",
    "    # StructField(\"ALAND\", StringType(), True),\n",
    "    # StructField(\"AWATER\", StringType(), True),\n",
    "])\n",
    "party_schema = StructType([\n",
    "    StructField(\"geoid\", LongType(), False),\n",
    "    StructField(\"party\", StringType(), False),\n",
    "])\n",
    "\n",
    "\n",
    "# dir_files = spark_job_utils.get_s3_path_dir(type)\n",
    "\n",
    "\n",
    "def parse(cols, schema):\n",
    "    # cols = l.split(\"\\t\")\n",
    "    for i, v in enumerate(cols):\n",
    "        if not v or len(v.strip()) == 0:\n",
    "            cols[i] = None\n",
    "            continue\n",
    "        t = type(schema.fields[i].dataType)\n",
    "        if t in [IntegerType, LongType]:\n",
    "            try:\n",
    "                cols[i] = int(v)\n",
    "            except Exception as e:\n",
    "                print(\"Warning: %s cannot convert val %s to int. %s\" % (schema.fieldNames()[i], v, e))\n",
    "                cols[i] = None\n",
    "        elif t in [DoubleType, FloatType]:\n",
    "            try:\n",
    "                cols[i] = float(v)\n",
    "            except Exception as e:\n",
    "                print(\"Warning: %s cannot convert val %s to float. %s\" % (schema.fieldNames()[i], v, e))\n",
    "                cols[i] = None\n",
    "    return cols\n",
    "\n",
    "def parse_events(l):\n",
    "    return parse(l.split(\"\\t\"), export_schema)\n",
    "def parse_mentions(l):\n",
    "    return parse(l.split(\"\\t\"), mentions_schema)\n",
    "def parse_party(l):\n",
    "    return parse(l.split(\",\"), party_schema)\n",
    "def parse_districts(l):\n",
    "    return parse(l.split(\"\\t\"), districts_schema)\n",
    "\n",
    "\n",
    "\n",
    "# # congressional_rdd = GeoJsonReader.readToGeometryRDD(sc, shape_file_location)\n",
    "# congressional_rdd = ShapefileReader.readToGeometryRDD(sc, shape_file_location)\n",
    "# shutil.rmtree(\"/Users/istomins/tmp/geojson.json\", ignore_errors=True)\n",
    "# shutil.rmtree(\"/Users/istomins/tmp/geowkt\", ignore_errors=True)\n",
    "# shutil.rmtree(\"/Users/istomins/tmp/geocsv\", ignore_errors=True)\n",
    "# # congressional_rdd.saveAsGeoJSON(\"/Users/istomins/tmp/geojson.json\")\n",
    "# congressional_df = Adapter.toDf(congressional_rdd, spark)\n",
    "congressional_rdd = sc.textFile(shape_file_location).map(parse_districts)\n",
    "congressional_df = sqlContext.createDataFrame(congressional_rdd, districts_schema)\n",
    "congressional_df.createOrReplaceTempView(\"districts\")\n",
    "congressional_df = spark.sql(\"\"\"select ST_GeomFromWKT(d.geometry) as geometry,\n",
    "     d.STATEFP,\n",
    "     d.CD116FP,\n",
    "     d.AFFGEOID,\n",
    "     d.GEOID,\n",
    "     d.LSAD,\n",
    "     d.CDSESSN from districts d\"\"\")\n",
    "congressional_df.createOrReplaceTempView(\"districts\")\n",
    "congressional_df.printSchema()\n",
    "events_rdd = sc.textFile(events_files).map(parse_events)\n",
    "events_df = sqlContext.createDataFrame(events_rdd, export_schema)\n",
    "events_df.registerTempTable(\"events\")\n",
    "mentions_rdd = sc.textFile(mentions_files).map(parse_mentions)\n",
    "mentions_df = sqlContext.createDataFrame(mentions_rdd, mentions_schema)\n",
    "mentions_df.registerTempTable(\"mentions\")\n",
    "\n",
    "geoid_to_party_rdd = sc.textFile(party_file).map(parse_party)\n",
    "geoid_to_party_df = sqlContext.createDataFrame(geoid_to_party_rdd, party_schema)\n",
    "geoid_to_party_df.registerTempTable(\"geoid_party\")\n",
    "\n",
    "new_df = sqlContext.sql(\"\"\"select e.globaleventid,\n",
    "     first(e.day) day,\n",
    "     first(e.eventcode) eventcode,\n",
    "     first(e.eventbasecode) eventbasecode,\n",
    "     first(e.eventrootcode) eventrootcode,\n",
    "     first(e.actiongeo_fullname) actiongeo_fullname,\n",
    "     first(e.actiongeo_countrycode) actiongeo_countrycode,\n",
    "     first(e.actiongeo_lat) actiongeo_lat,\n",
    "     first(e.actiongeo_long) actiongeo_long,\n",
    "     ST_Point(CAST(first(e.actiongeo_long) AS Decimal(24,20)), CAST(first(e.actiongeo_lat) AS Decimal(24,20))) as loc_point,\n",
    "     first(e.sourceurl) sourceurl,\n",
    "     avg(m.mentiondoctone) as avgtone,\n",
    "     count(m.globaleventid) as mentions_cnt\n",
    "from events e\n",
    "left join mentions m\n",
    "on e.globaleventid = m.globaleventid\n",
    "where e.actiongeo_lat is not null \n",
    "    and actiongeo_long is not null\n",
    "    and actiongeo_countrycode = 'US'\n",
    "group by e.globaleventid\"\"\")\n",
    "\n",
    "new_df.registerTempTable(\"new_df\")\n",
    "\n",
    "new_df = sqlContext.sql(\"\"\"select e.globaleventid,\n",
    "     e.day,\n",
    "     e.eventcode,\n",
    "     e.eventbasecode,\n",
    "     e.eventrootcode,\n",
    "     e.actiongeo_fullname,\n",
    "     e.actiongeo_countrycode,\n",
    "     e.actiongeo_lat,\n",
    "     e.actiongeo_long,\n",
    "     e.sourceurl,\n",
    "     e.avgtone,\n",
    "     e.mentions_cnt,\n",
    "     d.STATEFP,\n",
    "     d.CD116FP,\n",
    "     d.GEOID,\n",
    "     d.LSAD,\n",
    "     gp.party\n",
    "from new_df e\n",
    "join districts d\n",
    "on ST_CONTAINS(d.geometry, e.loc_point)\n",
    "left join geoid_party gp\n",
    "on d.GEOID = gp.geoid\"\"\")\n",
    "\n",
    "\n",
    "if not target_file.startswith(\"s3:\"):\n",
    "    shutil.rmtree(target_file, ignore_errors=True)\n",
    "# new_df.write.parquet(target_dir, partitionBy=['monthyear'], compression=\"snappy\")\n",
    "new_df.write\\\n",
    "    .format(\"com.databricks.spark.csv\") \\\n",
    "    .option(\"codec\", \"org.apache.hadoop.io.compress.GzipCodec\") \\\n",
    "    .option(\"header\", True) \\\n",
    "    .save(target_file)\n",
    "\n",
    "print(\"Done\")\n",
    "# sc.stop()\n"
   ]
  },
  {
   "cell_type": "code",
   "execution_count": null,
   "metadata": {},
   "outputs": [],
   "source": []
  }
 ],
 "metadata": {
  "kernelspec": {
   "display_name": "PySpark",
   "language": "",
   "name": "pysparkkernel"
  },
  "language_info": {
   "codemirror_mode": {
    "name": "python",
    "version": 2
   },
   "mimetype": "text/x-python",
   "name": "pyspark",
   "pygments_lexer": "python2"
  }
 },
 "nbformat": 4,
 "nbformat_minor": 4
}
